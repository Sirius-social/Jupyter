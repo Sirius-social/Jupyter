{
 "cells": [
  {
   "cell_type": "markdown",
   "id": "9eed154e-fb36-40e7-9e73-be2db821a605",
   "metadata": {},
   "source": [
    "### This is example of communication among participants in **DIDCOMM** manner\n",
    "We have 3 members: **Alice**, **Bob**, **Carl**. \n",
    "\n",
    "For demo purposes we maintain Wallets in the cloud<br/>\n",
    "You can check it by visiting [https://agents.socialsirius.com/](https://agents.socialsirius.com/) <br/>\n",
    "Login: **didcomm** Password: **didcomm**\n"
   ]
  },
  {
   "cell_type": "code",
   "execution_count": 2,
   "id": "a6efc77d-7f43-48d3-9c3d-b8a2a04da62b",
   "metadata": {},
   "outputs": [],
   "source": [
    "import sirius_sdk\n",
    "\n",
    "# Init connection to Wallet that maintained in the Cloud\n",
    "# Off cource developer have alternative - he may maintain Wallet and secrets on other way (KERI library) \n",
    "# thanks to Sirius-SDK is friendly to Legacy and flexible due to dependency injection architecture \n",
    "\n",
    "alice_cfg = sirius_sdk.Config().setup_cloud(\n",
    "    server_uri='https://agents.socialsirius.com',\n",
    "    credentials='s7RxiBlpeNq8k8hrx4vlgjb8XFnGQGxTjIQgk74LgYSYAS4TuR1kZZxJg5MS6b+rwsta0b6XT84KQyxKcKkysg==',\n",
    "    p2p={\n",
    "        \"their_verkey\": \"9b5fhAxyXoWP3ZHtpvKEFUf8o47uNcysuSd1c1VDq2yo\",\n",
    "        \"my_keys\": [\n",
    "          \"HYjGQGEtCbLisC2W3eeYxi196ojLV8sSdmGAAHt1Riry\",\n",
    "          \"4MFTdbvvUVnNkQpU7UHJXz1Qea9WqvDXgbkxNetoBhCob45VUDS3Ef5fN3nLBqkGNSG5RftK9RidY7HxYcBp38Lm\"\n",
    "        ]\n",
    "   }\n",
    ")\n",
    " "
   ]
  },
  {
   "cell_type": "markdown",
   "id": "a29b32cc-69ea-4221-9955-51da15d0625e",
   "metadata": {},
   "source": [
    "### Ok, we initialized our environment, Let's establish connections with others\n",
    "**Alice** will generate *Invitation URL* and share it with **Bob** and **Carl** via mesenger or email..."
   ]
  },
  {
   "cell_type": "code",
   "execution_count": 3,
   "id": "bda8fe6f-0e2f-40a3-928e-5c5dd7cf6acc",
   "metadata": {},
   "outputs": [
    {
     "data": {
      "application/vnd.jupyter.widget-view+json": {
       "model_id": "3909c37f49c34e279e6c29a1074642d1",
       "version_major": 2,
       "version_minor": 0
      },
      "text/plain": [
       "Button(button_style='primary', description='Generate Invitation', style=ButtonStyle())"
      ]
     },
     "metadata": {},
     "output_type": "display_data"
    },
    {
     "data": {
      "application/vnd.jupyter.widget-view+json": {
       "model_id": "f03320f82e1d4e8db5bc052e5be43e2e",
       "version_major": 2,
       "version_minor": 0
      },
      "text/plain": [
       "Output()"
      ]
     },
     "metadata": {},
     "output_type": "display_data"
    }
   ],
   "source": [
    "import json\n",
    "import logging\n",
    "import asyncio\n",
    "from typing import Optional\n",
    "\n",
    "import ipywidgets as widgets\n",
    "\n",
    "# \n",
    "logging.getLogger().setLevel(logging.CRITICAL)\n",
    "\n",
    "# Variables to store Peer-To-Peer metadata to communicate\n",
    "BOB: Optional[sirius_sdk.Pairwise] = None\n",
    "CARL: Optional[sirius_sdk.Pairwise] = None\n",
    "CONN_KEY: Optional[str] = None\n",
    "# Seed to restore self identity\n",
    "ALICE_SEED = '000000000000000000000000000ALICE'\n",
    "        \n",
    "\n",
    "async def generate_invitation():\n",
    "    try:\n",
    "        async with sirius_sdk.context(alice_cfg):\n",
    "            CONN_KEY = await sirius_sdk.Crypto.create_key()\n",
    "            endpoint = [e for e in await sirius_sdk.endpoints() if e.routing_keys == []][0]\n",
    "            invitation = sirius_sdk.aries_rfc.Invitation(\n",
    "                # Название компании\n",
    "                label='Alice',\n",
    "                # интернет-адрес P2P соединения\n",
    "                endpoint=endpoint.address, \n",
    "                # публичный ключ ЭЦП компании\n",
    "                recipient_keys=[CONN_KEY]\n",
    "            )\n",
    "            # output.append_stdout('\\nInvitation JSON:\\n')\n",
    "            # output.append_stdout(json.dumps(invitation, indent=2, sort_keys=True))\n",
    "            invitation_url = 'https://alice.com/invitation' + invitation.invitation_url\n",
    "            output.append_stdout('\\n !!!!!! Copy invitation and PASS to Bob and Carl !!!!!!\\n')\n",
    "            output.append_stdout('_'*128 + '\\n')\n",
    "            output.append_stdout(invitation_url)\n",
    "            output.append_stdout('\\n' + '_'*128)\n",
    "            # Start ti listen connection requests\n",
    "            output.append_stdout('\\nWait for connection requests from others...')\n",
    "            listener = await sirius_sdk.subscribe()\n",
    "            async for event in listener:\n",
    "                msg = event.message\n",
    "                if isinstance(msg, sirius_sdk.aries_rfc.ConnRequest) and event.recipient_verkey == CONN_KEY:\n",
    "                    output.append_stdout('\\nReceived conn-request, start rfc-160 to establish connection...')\n",
    "                    did, verkey = await sirius_sdk.DID.create_and_store_my_did(seed=ALICE_SEED)\n",
    "                    output.append_stdout(f'\\nMy DID: {did}  My Verkey: {verkey}  My Endpoint: {endpoint.address}')\n",
    "                    ########\n",
    "                    rfc_0160 = sirius_sdk.aries_rfc.Inviter(\n",
    "                        me=sirius_sdk.Pairwise.Me(did, verkey),\n",
    "                        connection_key=CONN_KEY,\n",
    "                        my_endpoint=endpoint\n",
    "                    )\n",
    "                    success, p2p = await rfc_0160.create_connection(request=msg)\n",
    "                    if success:\n",
    "                        their_label = p2p.their.label\n",
    "                        output.append_stdout('_'*128 + '\\n')\n",
    "                        output.append_stdout(f'\\n!!! Connection with {their_label} was established !!!!')\n",
    "                        output.append_stdout('\\n' + '_'*128)\n",
    "                        if their_label == 'Carl':\n",
    "                            CARL = p2p\n",
    "                        elif their_label == 'Bob':\n",
    "                            BOB = p2p\n",
    "                    else:\n",
    "                        output.append_stderr(rfc_0160.problem_report.explain)\n",
    "                    ########\n",
    "    except Exception as e:\n",
    "        output.append_stderr(repr(e))\n",
    "\n",
    "output = widgets.Output()\n",
    "button = widgets.Button(description=\"Generate Invitation\", button_style='primary')\n",
    "\n",
    "def on_button_clicked(b):\n",
    "    output.clear_output()\n",
    "    asyncio.ensure_future(generate_invitation())\n",
    "button.on_click(on_button_clicked)\n",
    "        \n",
    "display(button, output)\n"
   ]
  },
  {
   "cell_type": "code",
   "execution_count": null,
   "id": "91da3a8c-c5b7-432e-a7e0-4e33a5462790",
   "metadata": {},
   "outputs": [],
   "source": []
  }
 ],
 "metadata": {
  "kernelspec": {
   "display_name": "Python 3 (ipykernel)",
   "language": "python",
   "name": "python3"
  },
  "language_info": {
   "codemirror_mode": {
    "name": "ipython",
    "version": 3
   },
   "file_extension": ".py",
   "mimetype": "text/x-python",
   "name": "python",
   "nbconvert_exporter": "python",
   "pygments_lexer": "ipython3",
   "version": "3.10.6"
  }
 },
 "nbformat": 4,
 "nbformat_minor": 5
}
