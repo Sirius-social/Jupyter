{
 "cells": [
  {
   "cell_type": "markdown",
   "id": "1c4f53c7-672f-42f7-bafe-f4dc8a8aeecb",
   "metadata": {},
   "source": [
    "### This is example of communication among participants in **DIDCOMM** manner\n",
    "We have 3 members: **Alice**, **Bob**, **Carl**. \n",
    "\n",
    "For demo purposes we maintain Wallets in the cloud<br/>\n",
    "You can check it by visiting [https://agents.socialsirius.com/](https://agents.socialsirius.com/) <br/>\n",
    "Login: **didcomm** Password: **didcomm**\n"
   ]
  },
  {
   "cell_type": "code",
   "execution_count": 12,
   "id": "75b6df14-75ff-429b-ba53-093464af10f8",
   "metadata": {},
   "outputs": [],
   "source": [
    "import sirius_sdk\n",
    "\n",
    "# Init connection to Wallet that maintained in the Cloud\n",
    "# Off cource developer have alternative - he may maintain Wallet and secrets on other way (KERI library) \n",
    "# thanks to Sirius-SDK is friendly to Legacy and flexible due to dependency injection architecture \n",
    "\n",
    "bob_cfg = sirius_sdk.Config().setup_cloud(\n",
    "    server_uri='https://agents.socialsirius.com',\n",
    "    credentials='s7RxiBlpeNq8k8hrx4vlgjb8XFnGQGxTjIQgk74LgYSYAS4TuR1kZZxJg5MS6b+roqlm6OClcBVahrlBC6d7pg==',\n",
    "    p2p={\n",
    "        \"their_verkey\": \"Hju2j1nh5EHk8VHQKHyoHWZrEJbimkVTdYZbhnfMLrmg\",\n",
    "        \"my_keys\": [\n",
    "          \"BdVo9Ha72yyQmrfqLRn3bAfxj8wgf2uy4Rz7hYvzaf9e\",\n",
    "          \"3spH9x8K4ojQ4qKmqXFL67hK96DvMNAR8oSJhAx3QS2etHPd3xGcsdKZoinu8fpAueHMmbiB9ZLzwyJpXPrDdyj2\"\n",
    "        ]\n",
    "   }\n",
    ")"
   ]
  },
  {
   "cell_type": "markdown",
   "id": "540798a5-98f6-4f19-9269-5ee657a00722",
   "metadata": {},
   "source": [
    "### Ok, we initialized our environment, Let's establish connections with Alice (in our demo Alice is Inviter)\n",
    "Put here invitation that **Alice** was generated earlier..."
   ]
  },
  {
   "cell_type": "code",
   "execution_count": 14,
   "id": "2e0a390e-5130-44c1-91c5-fb075c22d6b8",
   "metadata": {},
   "outputs": [
    {
     "data": {
      "application/vnd.jupyter.widget-view+json": {
       "model_id": "7767ec69afcd439a87d0ac28a8f13d3a",
       "version_major": 2,
       "version_minor": 0
      },
      "text/plain": [
       "HBox(children=(Text(value=''), Button(button_style='primary', description='Accept Invitation', style=ButtonSty…"
      ]
     },
     "metadata": {},
     "output_type": "display_data"
    },
    {
     "data": {
      "application/vnd.jupyter.widget-view+json": {
       "model_id": "79bb1703d3414336b651362b39a90fca",
       "version_major": 2,
       "version_minor": 0
      },
      "text/plain": [
       "Output()"
      ]
     },
     "metadata": {},
     "output_type": "display_data"
    }
   ],
   "source": [
    "import json\n",
    "import logging\n",
    "import asyncio\n",
    "from typing import Optional\n",
    "\n",
    "import ipywidgets as widgets\n",
    "\n",
    "# \n",
    "logging.getLogger().setLevel(logging.CRITICAL)\n",
    "\n",
    "# Variables to store Peer-To-Peer metadata to communicate\n",
    "ALICE: Optional[sirius_sdk.Pairwise] = None\n",
    "# Seed to restore self identity\n",
    "BOB_SEED = '00000000000000000000000000000BOB'\n",
    "\n",
    "\n",
    "async def accept_invitation(url: str):\n",
    "    try:\n",
    "        async with sirius_sdk.context(bob_cfg):\n",
    "            invitation = sirius_sdk.aries_rfc.Invitation.from_url(url)\n",
    "            output.append_stdout('\\nInvitation JSON:\\n')\n",
    "            output.append_stdout(json.dumps(invitation, indent=2, sort_keys=True))\n",
    "            \n",
    "            output.append_stdout('\\n !!!!!!!!! Start Aries-RFC-0160 protocol !!!!!!')\n",
    "            did, verkey = await sirius_sdk.DID.create_and_store_my_did(seed=BOB_SEED)\n",
    "            endpoint = [e for e in await sirius_sdk.endpoints() if e.routing_keys == []][0]\n",
    "            output.append_stdout(f'\\nMy DID: {did}  My Verkey: {verkey}  My Endpoint: {endpoint.address}\\n')\n",
    "            \n",
    "            rfc_0160 = sirius_sdk.aries_rfc.Invitee(\n",
    "                me=sirius_sdk.Pairwise.Me(did, verkey),\n",
    "                my_endpoint=endpoint,\n",
    "                time_to_live=15  # 15 sec limit\n",
    "            )\n",
    "            success, p2p = await rfc_0160.create_connection(\n",
    "                invitation=invitation,\n",
    "                my_label='Bob'\n",
    "            )\n",
    "            if success:\n",
    "                ALICE = p2p\n",
    "                output.append_stdout('_'*128 + '\\n')\n",
    "                output.append_stdout('\\n!!! Connection with Alice was established !!!!')\n",
    "                output.append_stdout('\\n' + '_'*128)\n",
    "            else:\n",
    "                output.append_stderr(rfc_0160.problem_report.explain)\n",
    "    except Exception as e:\n",
    "        output.append_stderr(repr(e))\n",
    "\n",
    "\n",
    "output = widgets.Output()\n",
    "txt = widgets.Text()\n",
    "button = widgets.Button(description=\"Accept Invitation\", button_style='primary')\n",
    "def on_button_clicked(b):\n",
    "    output.clear_output()\n",
    "    asyncio.ensure_future(accept_invitation(txt.value))\n",
    "button.on_click(on_button_clicked)\n",
    "hboxes = [txt, button]\n",
    "\n",
    "display(widgets.HBox(hboxes), output)"
   ]
  },
  {
   "cell_type": "code",
   "execution_count": null,
   "id": "bf09c98c-2bd5-47ad-9501-f5172a4038dd",
   "metadata": {},
   "outputs": [],
   "source": []
  }
 ],
 "metadata": {
  "kernelspec": {
   "display_name": "Python 3 (ipykernel)",
   "language": "python",
   "name": "python3"
  },
  "language_info": {
   "codemirror_mode": {
    "name": "ipython",
    "version": 3
   },
   "file_extension": ".py",
   "mimetype": "text/x-python",
   "name": "python",
   "nbconvert_exporter": "python",
   "pygments_lexer": "ipython3",
   "version": "3.10.6"
  }
 },
 "nbformat": 4,
 "nbformat_minor": 5
}
