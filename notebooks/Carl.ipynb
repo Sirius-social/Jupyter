{
 "cells": [
  {
   "cell_type": "markdown",
   "id": "11e05f38-2dd2-4070-9745-35b44ffe93eb",
   "metadata": {},
   "source": [
    "### This is example of communication among participants in **DIDCOMM** manner\n",
    "We have 3 members: **Alice**, **Bob**, **Carl**. \n",
    "\n",
    "For demo purposes we maintain Wallets in the cloud<br/>\n",
    "You can check it by visiting [https://agents.socialsirius.com/](https://agents.socialsirius.com/) <br/>\n",
    "Login: **didcomm** Password: **didcomm**\n"
   ]
  },
  {
   "cell_type": "code",
   "execution_count": 34,
   "id": "c6090087-14f4-4d6d-9673-234b5e77618c",
   "metadata": {},
   "outputs": [],
   "source": [
    "import sirius_sdk\n",
    "\n",
    "# Init connection to Wallet that maintained in the Cloud\n",
    "# Off cource developer have alternative - he may maintain Wallet and secrets on other way (KERI library) \n",
    "# thanks to Sirius-SDK is friendly to Legacy and flexible due to dependency injection architecture \n",
    "\n",
    "carl_cfg = sirius_sdk.Config().setup_cloud(\n",
    "    server_uri='https://agents.socialsirius.com',\n",
    "    credentials='s7RxiBlpeNq8k8hrx4vlgjb8XFnGQGxTjIQgk74LgYSYAS4TuR1kZZxJg5MS6b+rdefbzDIW5SbyYbkI+UYP/Q==',\n",
    "    p2p={\n",
    "        \"their_verkey\": \"HCNPicRwYQHhdQ7Z5nNQ8kaAQkLeetmLctfyZ5GVxDy9\",\n",
    "        \"my_keys\": [\n",
    "          \"DQTDLvkSAjGYmKG5a9EvgvUwJzKXQfQuqxwgYHz6H9jE\",\n",
    "          \"2dUPJxWVbNU1VhsUFAkVNLeq3kG7TghBLum8atfy6C3QAkG4GAYxAWEU4NMy3Qi9BGVdehP7UATaDdhw8g79A2jJ\"\n",
    "        ]\n",
    "   }\n",
    ")"
   ]
  },
  {
   "cell_type": "markdown",
   "id": "f7334d7a-aaf4-4955-a89f-294abe465e73",
   "metadata": {},
   "source": [
    "### Ok, we initialized our environment, Let's establish connections with Alice (in our demo Alice is Inviter)\n",
    "Put here invitation that **Alice** was generated earlier..."
   ]
  },
  {
   "cell_type": "code",
   "execution_count": 35,
   "id": "69677ac6-5c90-4b75-8167-aea243bcf588",
   "metadata": {},
   "outputs": [
    {
     "data": {
      "application/vnd.jupyter.widget-view+json": {
       "model_id": "8318f62055804321ac3060b8457784a8",
       "version_major": 2,
       "version_minor": 0
      },
      "text/plain": [
       "HBox(children=(Text(value=''), Button(button_style='primary', description='Accept Invitation', style=ButtonSty…"
      ]
     },
     "metadata": {},
     "output_type": "display_data"
    },
    {
     "data": {
      "application/vnd.jupyter.widget-view+json": {
       "model_id": "dc0ff521f6c94768b949de0730d22876",
       "version_major": 2,
       "version_minor": 0
      },
      "text/plain": [
       "Output()"
      ]
     },
     "metadata": {},
     "output_type": "display_data"
    }
   ],
   "source": [
    "import json\n",
    "import logging\n",
    "import asyncio\n",
    "from typing import Optional\n",
    "\n",
    "import ipywidgets as widgets\n",
    "\n",
    "# \n",
    "logging.getLogger().setLevel(logging.CRITICAL)\n",
    "\n",
    "# Variables to store Peer-To-Peer metadata to communicate\n",
    "ALICE: Optional[sirius_sdk.Pairwise] = None\n",
    "# Seed to restore self identity\n",
    "CARL_SEED = '0000000000000000000000000000CARL'\n",
    "\n",
    "\n",
    "async def accept_invitation(url: str):\n",
    "    try:\n",
    "        async with sirius_sdk.context(carl_cfg):\n",
    "            invitation = sirius_sdk.aries_rfc.Invitation.from_url(url)\n",
    "            output.append_stdout('\\nInvitation JSON:\\n')\n",
    "            output.append_stdout(json.dumps(invitation, indent=2, sort_keys=True))\n",
    "            \n",
    "            output.append_stdout('\\n !!!!!!!!! Start Aries-RFC-0160 protocol !!!!!!')\n",
    "            did, verkey = await sirius_sdk.DID.create_and_store_my_did(seed=CARL_SEED)\n",
    "            endpoint = [e for e in await sirius_sdk.endpoints() if e.routing_keys == []][0]\n",
    "            output.append_stdout(f'\\nMy DID: {did}  My Verkey: {verkey}  My Endpoint: {endpoint.address}\\n')\n",
    "            \n",
    "            rfc_0160 = sirius_sdk.aries_rfc.Invitee(\n",
    "                me=sirius_sdk.Pairwise.Me(did, verkey),\n",
    "                my_endpoint=endpoint,\n",
    "                time_to_live=15  # 15 sec limit\n",
    "            )\n",
    "            success, p2p = await rfc_0160.create_connection(\n",
    "                invitation=invitation,\n",
    "                my_label='Carl'\n",
    "            )\n",
    "            if success:\n",
    "                ALICE = p2p\n",
    "                output.append_stdout('_'*128 + '\\n')\n",
    "                output.append_stdout('\\n!!! Connection with Alice was established !!!!')\n",
    "                output.append_stdout('\\n' + '_'*128)\n",
    "            else:\n",
    "                output.append_stderr(rfc_0160.problem_report.explain)\n",
    "    except Exception as e:\n",
    "        output.append_stderr(repr(e))\n",
    "\n",
    "\n",
    "output = widgets.Output()\n",
    "txt = widgets.Text()\n",
    "button = widgets.Button(description=\"Accept Invitation\", button_style='primary')\n",
    "def on_button_clicked(b):\n",
    "    output.clear_output()\n",
    "    asyncio.ensure_future(accept_invitation(txt.value))\n",
    "button.on_click(on_button_clicked)\n",
    "hboxes = [txt, button]\n",
    "\n",
    "display(widgets.HBox(hboxes), output)"
   ]
  },
  {
   "cell_type": "code",
   "execution_count": null,
   "id": "1ec93b97-829f-49ec-9c96-b7ac14854149",
   "metadata": {},
   "outputs": [],
   "source": []
  }
 ],
 "metadata": {
  "kernelspec": {
   "display_name": "Python 3 (ipykernel)",
   "language": "python",
   "name": "python3"
  },
  "language_info": {
   "codemirror_mode": {
    "name": "ipython",
    "version": 3
   },
   "file_extension": ".py",
   "mimetype": "text/x-python",
   "name": "python",
   "nbconvert_exporter": "python",
   "pygments_lexer": "ipython3",
   "version": "3.10.6"
  }
 },
 "nbformat": 4,
 "nbformat_minor": 5
}
