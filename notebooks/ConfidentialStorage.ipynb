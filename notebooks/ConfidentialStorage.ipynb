{
 "cells": [
  {
   "cell_type": "markdown",
   "id": "ae3a0af3-c546-4b12-b39e-0cfa3fe81eaf",
   "metadata": {},
   "source": [
    "# SVASv\n"
   ]
  },
  {
   "cell_type": "code",
   "execution_count": 11,
   "id": "4d7b25d9-fc85-46ca-ab7e-20372a98229e",
   "metadata": {},
   "outputs": [
    {
     "data": {
      "application/vnd.jupyter.widget-view+json": {
       "model_id": "326b683ae5fe4e228b61caf8eba3ad55",
       "version_major": 2,
       "version_minor": 0
      },
      "text/plain": [
       "Button(button_style='primary', description='Generate Invitation', style=ButtonStyle())"
      ]
     },
     "metadata": {},
     "output_type": "display_data"
    },
    {
     "data": {
      "application/vnd.jupyter.widget-view+json": {
       "model_id": "dd5b4ed1a00f4cf799c3e81ffb1f472a",
       "version_major": 2,
       "version_minor": 0
      },
      "text/plain": [
       "Output()"
      ]
     },
     "metadata": {},
     "output_type": "display_data"
    }
   ],
   "source": [
    "import asyncio\n",
    "from typing import Optional\n",
    "\n",
    "import sirius_sdk\n",
    "import ipywidgets as widgets\n",
    "\n",
    "\n",
    "################### P2P connection to Confidential-Storage Provider ###################\n",
    "PROVIDER: Optional[sirius_sdk.Pairwise] = None\n",
    "#######################################################\n",
    "\n",
    "\n",
    "# Init connection to Wallet that maintained in the Cloud\n",
    "# Off cource developer have alternative - he may maintain Wallet and secrets on other way (KERI library) \n",
    "# thanks to Sirius-SDK is friendly to Legacy and flexible due to dependency injection architecture \n",
    "\n",
    "cfg = sirius_sdk.Config().setup_cloud(\n",
    "    server_uri='https://agents.socialsirius.com',\n",
    "    credentials='s7RxiBlpeNq8k8hrx4vlgjb8XFnGQGxTjIQgk74LgYSYAS4TuR1kZZxJg5MS6b+rUj54zpQ9fWOm3lsdQwI3d2EzIARf+kcCNKU5wKJX9LY=',\n",
    "    p2p={\n",
    "        \"their_verkey\": \"FBHVE36ZfixjBwqJWKy45sTRJdt9KDFrqQPL6rExJweN\",\n",
    "        \"my_keys\": [\n",
    "          \"22UJ1f3nPuJR9y6znPXwGw2xEyzmNRigwbfNoJPraPtY\",\n",
    "          \"5JjNff6y8GxWtWxWA5BiKkfZVx4hYQHscwZt7z613CrENWL7xRMehy5MWNy6BqooX73PmDDSso9npNEqsmbXgXCG\"\n",
    "        ]\n",
    "   }\n",
    ")\n",
    "\n",
    "async def establish_connection():\n",
    "    try:\n",
    "        async with sirius_sdk.context(cfg):\n",
    "            conn_key = await sirius_sdk.Crypto.create_key()\n",
    "            endpoint = [e for e in await sirius_sdk.endpoints() if not e.routing_keys][0]\n",
    "            invitation = sirius_sdk.aries_rfc.Invitation(\n",
    "                label='Vault Client',\n",
    "                endpoint=endpoint.address, \n",
    "                recipient_keys=[conn_key],\n",
    "                routing_keys=endpoint.routing_keys\n",
    "            )\n",
    "            invitation_url = 'https://example.com/invitation' + invitation.invitation_url\n",
    "            output.append_stdout('\\n !!!!!! Copy invitation and PASS to Provider script !!!!!!\\n')\n",
    "            output.append_stdout('_'*128 + '\\n')\n",
    "            output.append_stdout(invitation_url)\n",
    "            output.append_stdout('\\n' + '_'*128)\n",
    "            # Start ti listen connection requests\n",
    "            output.append_stdout('\\nWait for connection requests ...')\n",
    "            listener = await sirius_sdk.subscribe()\n",
    "            async for event in listener:\n",
    "                msg = event.message\n",
    "                if isinstance(msg, sirius_sdk.aries_rfc.ConnRequest) and event.recipient_verkey == conn_key:\n",
    "                    output.append_stdout('\\nReceived conn-request, start rfc-160 to establish connection...')\n",
    "                    did, verkey = await sirius_sdk.DID.create_and_store_my_did()\n",
    "                    output.append_stdout(f'\\nMy DID: {did}  My Verkey: {verkey}  My Endpoint: {endpoint.address}')\n",
    "                    ########\n",
    "                    rfc_0160 = sirius_sdk.aries_rfc.Inviter(\n",
    "                        me=sirius_sdk.Pairwise.Me(did, verkey),\n",
    "                        connection_key=conn_key,\n",
    "                        my_endpoint=endpoint\n",
    "                    )\n",
    "                    success, p2p = await rfc_0160.create_connection(request=msg)\n",
    "                    if success:\n",
    "                        their_label = p2p.their.label\n",
    "                        output.append_stdout('_'*128 + '\\n')\n",
    "                        output.append_stdout(f'\\n!!! Connection with \"{their_label}\" was established !!!!')\n",
    "                        output.append_stdout('\\n' + '_'*128)\n",
    "                    else:\n",
    "                        output.append_stderr(rfc_0160.problem_report.explain)\n",
    "                    ########\n",
    "    except Exception as e:\n",
    "        output.append_stderr(repr(e))\n",
    "\n",
    "output = widgets.Output()\n",
    "button = widgets.Button(description=\"Generate Invitation\", button_style='primary')\n",
    "\n",
    "def on_button_clicked(b):\n",
    "    output.clear_output()\n",
    "    PROVIDER = None\n",
    "    asyncio.ensure_future(establish_connection())\n",
    "button.on_click(on_button_clicked)\n",
    "        \n",
    "display(button, output)\n"
   ]
  },
  {
   "cell_type": "code",
   "execution_count": null,
   "id": "776b896d-1085-4182-b28c-6b0c18d55026",
   "metadata": {},
   "outputs": [],
   "source": []
  },
  {
   "cell_type": "code",
   "execution_count": null,
   "id": "c695da2d-5e45-45bb-90b4-030dc191814c",
   "metadata": {},
   "outputs": [],
   "source": []
  }
 ],
 "metadata": {
  "kernelspec": {
   "display_name": "Python 3 (ipykernel)",
   "language": "python",
   "name": "python3"
  },
  "language_info": {
   "codemirror_mode": {
    "name": "ipython",
    "version": 3
   },
   "file_extension": ".py",
   "mimetype": "text/x-python",
   "name": "python",
   "nbconvert_exporter": "python",
   "pygments_lexer": "ipython3",
   "version": "3.10.6"
  }
 },
 "nbformat": 4,
 "nbformat_minor": 5
}
