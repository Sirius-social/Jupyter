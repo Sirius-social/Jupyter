{
 "cells": [
  {
   "cell_type": "code",
   "execution_count": 1,
   "id": "2690462b-6ac6-4ed2-8e79-592f6039dbbf",
   "metadata": {},
   "outputs": [],
   "source": [
    "%%loadFromPOM\n",
    "<repositories>\n",
    "    <repository>\n",
    "        <id>jitpack.io</id>\n",
    "        <url>https://jitpack.io</url>\n",
    "    </repository>\n",
    "    <repository>\n",
    "        <id>sovrin</id>\n",
    "        <url>https://repo.sovrin.org/repository/maven-public</url>\n",
    "    </repository>\n",
    "</repositories>\n",
    "\n",
    "<dependency>\n",
    "    <groupId>com.github.Sirius-social</groupId>\n",
    "    <artifactId>sirius-sdk-java</artifactId>\n",
    "    <version>ignore_tests-SNAPSHOT</version>\n",
    "</dependency>"
   ]
  },
  {
   "cell_type": "code",
   "execution_count": 2,
   "id": "3ccfbd85-4afb-448d-8f46-a57f90914cb8",
   "metadata": {},
   "outputs": [],
   "source": [
    "import com.sirius.sdk.agent.aries_rfc.feature_0095_basic_message.Message;\n",
    "import com.sirius.sdk.agent.listener.Event;\n",
    "import com.sirius.sdk.agent.listener.Listener;\n",
    "import com.sirius.sdk.agent.n_wise.NWiseParticipant;\n",
    "import com.sirius.sdk.agent.n_wise.messages.Invitation;\n",
    "import com.sirius.sdk.agent.n_wise.messages.LedgerUpdateNotify;\n",
    "import com.sirius.sdk.hub.Context;\n",
    "import io.reactivex.rxjava3.core.Observable;\n",
    "import io.reactivex.rxjava3.functions.Consumer;\n",
    "import io.reactivex.rxjava3.subjects.ReplaySubject;\n",
    "import com.sirius.sdk.hub.MobileContext;\n",
    "import com.sirius.sdk.hub.MobileHub;\n",
    "import com.sirius.sdk.hub.CloudContext;\n",
    "import com.sirius.sdk.hub.CloudHub;\n",
    "\n",
    "import java.util.ArrayList;\n",
    "import java.util.List;\n",
    "\n",
    "public class NWiseClient {\n",
    "    \n",
    "    public NWiseClient(CloudHub.Config config, String nickname) {\n",
    "        this.nickname = nickname;\n",
    "        context = new CloudContext(config);\n",
    "    }\n",
    "\n",
    "    public static class NWiseMessage {\n",
    "        public Message message;\n",
    "        public String nWiseInternalId;\n",
    "        public String senderDid;\n",
    "    }\n",
    "\n",
    "    Context context = null;\n",
    "    boolean loop = false;\n",
    "    String nickname;\n",
    "    List<NWiseMessage> receivedMessages = new ArrayList<>();\n",
    "    ReplaySubject<Event> observable = ReplaySubject.create();\n",
    "\n",
    "    public void start() {\n",
    "        if (!loop) {\n",
    "            loop = true;\n",
    "            new Thread(() -> routine()).start();\n",
    "        }\n",
    "    }\n",
    "\n",
    "    public void stop() {\n",
    "        if (context != null) {\n",
    "            loop = false;\n",
    "            context.close();\n",
    "        }\n",
    "    }\n",
    "\n",
    "    public String createNWise(String nWiseName) {\n",
    "        return context.getNWiseManager().create(nWiseName, nickname);\n",
    "    }\n",
    "\n",
    "    public String acceptInvitation(Invitation invitation) {\n",
    "        return context.getNWiseManager().acceptInvitation(invitation, nickname);\n",
    "    }\n",
    "\n",
    "    public Invitation createNWiseInvitation(String internalId) {\n",
    "        return context.getNWiseManager().createInvitation(internalId);\n",
    "    }\n",
    "\n",
    "    public boolean updateNWise(String internalId) {\n",
    "        return context.getNWiseManager().update(internalId);\n",
    "    }\n",
    "\n",
    "    public List<NWiseParticipant> getNWiseParticipants(String internalId) {\n",
    "        return context.getNWiseManager().getParticipants(internalId);\n",
    "    }\n",
    "\n",
    "    public boolean sendNWiseMessage(String internalId, Message message) {\n",
    "        return context.getNWiseManager().send(internalId, message);\n",
    "    }\n",
    "\n",
    "    public List<NWiseMessage> getReceivedMessages() {\n",
    "        return receivedMessages;\n",
    "    }\n",
    "\n",
    "    public Observable<Event> getEvents() {\n",
    "        return observable;\n",
    "    }\n",
    "\n",
    "    public NWiseParticipant getMe(String internalId) {\n",
    "        return context.getNWiseManager().getMe(internalId, context);\n",
    "    }\n",
    "\n",
    "    public boolean leave(String internalId) {\n",
    "        return context.getNWiseManager().leave(internalId, context);\n",
    "    }\n",
    "\n",
    "    protected void routine() {\n",
    "        Listener listener = context.subscribe();\n",
    "        listener.listen().blockingSubscribe(new Consumer<Event>() {\n",
    "            @Override\n",
    "            public void accept(Event event) {\n",
    "                String nWiseId = context.getNWiseManager().resolveNWiseId(event.getSenderVerkey());\n",
    "                NWiseParticipant sender = context.getNWiseManager().resolveParticipant(event.getSenderVerkey());\n",
    "                String senderNickname = sender != null ? sender.nickname : \"Unknown\";\n",
    "                System.out.println(nickname + \" received new message from \" + senderNickname + \" : \" + event.message().getMessageObj());\n",
    "                if (event.message() instanceof Message) {\n",
    "                    if (nWiseId != null && sender != null) {\n",
    "                        Message message = (Message) event.message();\n",
    "                        NWiseMessage nWiseMessage = new NWiseMessage();\n",
    "                        nWiseMessage.message = message;\n",
    "                        nWiseMessage.nWiseInternalId = context.getNWiseManager().resolveNWiseId(event.getSenderVerkey());\n",
    "                        nWiseMessage.senderDid = sender.did;\n",
    "                        receivedMessages.add(nWiseMessage);\n",
    "                    }\n",
    "                } else if (event.message() instanceof LedgerUpdateNotify) {\n",
    "                    context.getNWiseManager().getNotify(event.getSenderVerkey());\n",
    "                }\n",
    "                observable.onNext(event);\n",
    "            }\n",
    "        }, new Consumer<Throwable>() {\n",
    "            @Override\n",
    "            public void accept(Throwable throwable) throws Throwable {\n",
    "                throwable.printStackTrace();\n",
    "            }\n",
    "        });\n",
    "    }\n",
    "}\n"
   ]
  },
  {
   "cell_type": "code",
   "execution_count": 3,
   "id": "64cfafc4-e949-45f0-b097-86550eecd575",
   "metadata": {},
   "outputs": [],
   "source": [
    "import org.json.JSONObject;\n",
    "import com.sirius.sdk.hub.MobileHub;\n",
    "import com.sirius.sdk.hub.CloudHub;\n",
    "import com.sirius.sdk.agent.aries_rfc.feature_0160_connection_protocol.messages.Invitation;\n",
    "import com.sirius.sdk.encryption.P2PConnection;\n",
    "import java.nio.charset.StandardCharsets;\n",
    "\n",
    "JSONObject walletConfig = new JSONObject().\n",
    "    put(\"id\", UUID.randomUUID()).\n",
    "    put(\"storage_type\", \"default\");\n",
    "JSONObject walletCredentials = new JSONObject().\n",
    "    put(\"key\", \"8dvfYSt5d1taSd6yJdpjq4emkwsPDDLYxkNFysFD2cZY\").\n",
    "    put(\"key_derivation_method\", \"RAW\");\n",
    "\n",
    "CloudHub.Config aliceConfig = new CloudHub.Config();\n",
    "aliceConfig.serverUri = \"https://agents.socialsirius.com\";\n",
    "aliceConfig.credentials = \"s7RxiBlpeNq8k8hrx4vlgjb8XFnGQGxTjIQgk74LgYSYAS4TuR1kZZxJg5MS6b+rwsta0b6XT84KQyxKcKkysg==\".getBytes(StandardCharsets.UTF_8);\n",
    "aliceConfig.p2p = new P2PConnection(\n",
    "    \"HYjGQGEtCbLisC2W3eeYxi196ojLV8sSdmGAAHt1Riry\",\n",
    "    \"4MFTdbvvUVnNkQpU7UHJXz1Qea9WqvDXgbkxNetoBhCob45VUDS3Ef5fN3nLBqkGNSG5RftK9RidY7HxYcBp38Lm\",\n",
    "    \"9b5fhAxyXoWP3ZHtpvKEFUf8o47uNcysuSd1c1VDq2yo\");\n",
    "\n",
    "CloudHub.Config bobConfig = new CloudHub.Config();\n",
    "bobConfig.serverUri = \"https://agents.socialsirius.com\";\n",
    "bobConfig.credentials = \"s7RxiBlpeNq8k8hrx4vlgjb8XFnGQGxTjIQgk74LgYSYAS4TuR1kZZxJg5MS6b+roqlm6OClcBVahrlBC6d7pg==\".getBytes(StandardCharsets.UTF_8);\n",
    "bobConfig.p2p = new P2PConnection(\n",
    "    \"BdVo9Ha72yyQmrfqLRn3bAfxj8wgf2uy4Rz7hYvzaf9e\",\n",
    "    \"3spH9x8K4ojQ4qKmqXFL67hK96DvMNAR8oSJhAx3QS2etHPd3xGcsdKZoinu8fpAueHMmbiB9ZLzwyJpXPrDdyj2\",\n",
    "    \"Hju2j1nh5EHk8VHQKHyoHWZrEJbimkVTdYZbhnfMLrmg\");\n",
    "\n",
    "CloudHub.Config carolConfig = new CloudHub.Config();\n",
    "carolConfig.serverUri = \"https://agents.socialsirius.com\";\n",
    "carolConfig.credentials = \"s7RxiBlpeNq8k8hrx4vlgjb8XFnGQGxTjIQgk74LgYSYAS4TuR1kZZxJg5MS6b+rdefbzDIW5SbyYbkI+UYP/Q==\".getBytes(StandardCharsets.UTF_8);\n",
    "carolConfig.p2p = new P2PConnection(\n",
    "    \"DQTDLvkSAjGYmKG5a9EvgvUwJzKXQfQuqxwgYHz6H9jE\",\n",
    "    \"2dUPJxWVbNU1VhsUFAkVNLeq3kG7TghBLum8atfy6C3QAkG4GAYxAWEU4NMy3Qi9BGVdehP7UATaDdhw8g79A2jJ\",\n",
    "    \"HCNPicRwYQHhdQ7Z5nNQ8kaAQkLeetmLctfyZ5GVxDy9\");\n",
    "\n",
    "NWiseClient alice = new NWiseClient(aliceConfig, \"Alice\");\n",
    "NWiseClient bob = new NWiseClient(bobConfig, \"Bob\");\n",
    "NWiseClient carol = new NWiseClient(carolConfig, \"Carol\");"
   ]
  },
  {
   "cell_type": "code",
   "execution_count": 4,
   "id": "ec0cb6c0-4a83-4d25-9cc0-a18d89d01ee4",
   "metadata": {},
   "outputs": [],
   "source": [
    "alice.start();\n",
    "bob.start();\n",
    "carol.start();"
   ]
  },
  {
   "cell_type": "code",
   "execution_count": 5,
   "id": "31323fea-6ff0-4851-a533-b9e5bb030403",
   "metadata": {},
   "outputs": [
    {
     "name": "stderr",
     "output_type": "stream",
     "text": [
      "SLF4J: No SLF4J providers were found.\n",
      "SLF4J: Defaulting to no-operation (NOP) logger implementation\n",
      "SLF4J: See http://www.slf4j.org/codes.html#noProviders for further details.\n"
     ]
    }
   ],
   "source": [
    "String aliceNWiseInternalId = alice.createNWise(\"new n-wise\");"
   ]
  },
  {
   "cell_type": "code",
   "execution_count": 6,
   "id": "d8224a75-2a5a-498d-af3c-80d05f1c9e25",
   "metadata": {},
   "outputs": [
    {
     "data": {
      "text/plain": [
       "4097e16e-65e1-43f0-8a6f-a7d2ccce6d1d"
      ]
     },
     "execution_count": 6,
     "metadata": {},
     "output_type": "execute_result"
    }
   ],
   "source": [
    "aliceNWiseInternalId"
   ]
  },
  {
   "cell_type": "code",
   "execution_count": 7,
   "id": "63cb424f-4f4c-4bdc-bc69-177818c66d22",
   "metadata": {},
   "outputs": [],
   "source": [
    "import com.sirius.sdk.agent.n_wise.messages.Invitation;\n",
    "Invitation invitationAliceToBob = alice.createNWiseInvitation(aliceNWiseInternalId);"
   ]
  },
  {
   "cell_type": "code",
   "execution_count": 8,
   "id": "5cc91f81-98b0-47ea-9538-c31100c09ecb",
   "metadata": {},
   "outputs": [
    {
     "data": {
      "text/plain": [
       "{\"invitationPrivateKeyBase58\":\"4Fh3HRuoUSU3DbTHkuE6XiBpNSD3322YvHHHL7xm1ko2tJZ6SEeQSa8tyyYE8i11GgCjWnkScXNFk7J6w1myR8hx\",\"@type\":\"did:sov:BzCbsNYhMrjHiqZDTUASHg;spec/n-wise/1.0/invitation\",\"invitationKeyId\":\"6oQJrKRCTcNiPiXJxw9KgbjBDVr6XYPCpxQe6FKSrF7x\",\"ledgerType\":\"iota@v1.0\",\"@id\":\"6a1780d1-2f89-4708-92ae-b7bf438fb36f\",\"label\":\"new n-wise\",\"attach\":{\"tag\":\"AvMwEiKeFoXkss1peZh1f1cxcx4vpKWusaLxGURuPUKC\"}}"
      ]
     },
     "execution_count": 8,
     "metadata": {},
     "output_type": "execute_result"
    }
   ],
   "source": [
    "invitationAliceToBob.getMessageObj()"
   ]
  },
  {
   "cell_type": "code",
   "execution_count": 9,
   "id": "cff6ffbf-cad4-4b9d-8784-6c57e9c6f2c6",
   "metadata": {},
   "outputs": [],
   "source": [
    "String bobNWiseInternalId = bob.acceptInvitation(invitationAliceToBob);"
   ]
  },
  {
   "cell_type": "code",
   "execution_count": 10,
   "id": "add80379-dcb9-4d3f-83e2-fe04fa751841",
   "metadata": {},
   "outputs": [
    {
     "name": "stdout",
     "output_type": "stream",
     "text": [
      "Alice received new message from Bob : {\"@type\":\"did:sov:BzCbsNYhMrjHiqZDTUASHg;spec/n-wise/1.0/ledger-update-notify\",\"@id\":\"3b1f33d4-a97f-4a41-bfbd-28dddb031c67\"}\n"
     ]
    },
    {
     "data": {
      "text/plain": [
       "2"
      ]
     },
     "execution_count": 10,
     "metadata": {},
     "output_type": "execute_result"
    }
   ],
   "source": [
    "alice.updateNWise(aliceNWiseInternalId);\n",
    "alice.getNWiseParticipants(aliceNWiseInternalId).size()"
   ]
  },
  {
   "cell_type": "code",
   "execution_count": 12,
   "id": "6a30c5e7-f8a5-440f-983f-256f680b1b92",
   "metadata": {},
   "outputs": [
    {
     "data": {
      "text/plain": [
       "true"
      ]
     },
     "execution_count": 12,
     "metadata": {},
     "output_type": "execute_result"
    }
   ],
   "source": [
    "Message bobToAlice = Message.builder().setContent(\"hello world!\").build();\n",
    "bob.sendNWiseMessage(bobNWiseInternalId, bobToAlice);"
   ]
  },
  {
   "cell_type": "code",
   "execution_count": 13,
   "id": "4fd4d41b-cb21-4410-868e-1075962126d3",
   "metadata": {},
   "outputs": [
    {
     "data": {
      "text/plain": [
       "2"
      ]
     },
     "execution_count": 13,
     "metadata": {},
     "output_type": "execute_result"
    }
   ],
   "source": [
    "alice.updateNWise(aliceNWiseInternalId);\n",
    "alice.getNWiseParticipants(aliceNWiseInternalId).size()"
   ]
  },
  {
   "cell_type": "code",
   "execution_count": null,
   "id": "ecb0a7f6-74b0-454b-9da7-078cf09d8658",
   "metadata": {},
   "outputs": [],
   "source": []
  }
 ],
 "metadata": {
  "kernelspec": {
   "display_name": "Java",
   "language": "java",
   "name": "java"
  },
  "language_info": {
   "codemirror_mode": "java",
   "file_extension": ".jshell",
   "mimetype": "text/x-java-source",
   "name": "Java",
   "pygments_lexer": "java",
   "version": "11.0.16+8-post-Ubuntu-0ubuntu122.04"
  }
 },
 "nbformat": 4,
 "nbformat_minor": 5
}
