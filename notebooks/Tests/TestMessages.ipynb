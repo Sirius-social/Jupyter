{
 "cells": [
  {
   "cell_type": "markdown",
   "id": "01536c61-8f47-4c30-a47b-ff5e9a81b4a2",
   "metadata": {},
   "source": [
    "# Тестируем типовые сценарии и баги текстового чата\n",
    "\n",
    "#### Для начала установите P2P соединение с телефоном"
   ]
  },
  {
   "cell_type": "code",
   "execution_count": 38,
   "id": "f4d21f26-6d95-4b5f-9606-0a87c4efbd7e",
   "metadata": {},
   "outputs": [
    {
     "data": {
      "application/vnd.jupyter.widget-view+json": {
       "model_id": "4e65f21867eb47e0b858a8aff4b1ab0d",
       "version_major": 2,
       "version_minor": 0
      },
      "text/plain": [
       "Output(layout=Layout(width='1000px'))"
      ]
     },
     "metadata": {},
     "output_type": "display_data"
    },
    {
     "data": {
      "text/plain": [
       "<Task pending name='Task-98' coro=<establish_connection() running at /tmp/ipykernel_167/3446796242.py:28>>"
      ]
     },
     "execution_count": 38,
     "metadata": {},
     "output_type": "execute_result"
    }
   ],
   "source": [
    "import asyncio\n",
    "import datetime\n",
    "from typing import Optional\n",
    "\n",
    "import sirius_sdk\n",
    "import ipywidgets as widgets\n",
    "from IPython.display import display, Image, HTML\n",
    "\n",
    "################### P2P connection ###################\n",
    "P2P: Optional[sirius_sdk.Pairwise] = None\n",
    "LABEL: str = 'Test-' + str(datetime.datetime.utcnow())\n",
    "if LABEL.split(' ') > 1:\n",
    "    # проще использовать только время без даты\n",
    "    LABEL = LABEL[-1]\n",
    "#######################################################\n",
    "\n",
    "# Инициализируем подключение к Wallet в облаке\n",
    "CFG = sirius_sdk.Config().setup_cloud(\n",
    "    server_uri='https://agents.socialsirius.com',\n",
    "    credentials='s7RxiBlpeNq8k8hrx4vlgjb8XFnGQGxTjIQgk74LgYSYAS4TuR1kZZxJg5MS6b+rP2GFW7NHGJkINyK9gPhqmw2zGmFReH7De9JpfPW5ufQ=',\n",
    "    p2p={\n",
    "        \"their_verkey\": \"6Ym63c9YhtJsCP1itowQozvkCAxATgeNCeJdGThvLvGP\",\n",
    "        \"my_keys\": [\n",
    "          \"5fEvX3eveEs6tuXeW8AqafDG1DLNUH8EpSWG49wVSScs\",\n",
    "          \"2ooEHPR9qU3uo6H9KbV3VNuAChzEQG3NzkodBC59NR12tkmFBH3B7Htsdbe6FYxStdRQ52EamCg2Ux75EZeC7KyM\"\n",
    "        ]\n",
    "   }\n",
    ")\n",
    "\n",
    "\n",
    "async def establish_connection():\n",
    "    global P2P\n",
    "    try:\n",
    "        async with sirius_sdk.context(CFG):\n",
    "            did, verkey = await sirius_sdk.DID.create_and_store_my_did()\n",
    "            output.append_stdout(f'\\n My Label: {LABEL} \\n My DID: {did}\\n My Key: {verkey}')\n",
    "            \n",
    "            manager = sirius_sdk.recipes.InvitationManager(\n",
    "                me=sirius_sdk.Pairwise.Me(did, verkey),\n",
    "                my_label=LABEL\n",
    "            )\n",
    "            invitation = await manager.make_invitation()\n",
    "            invitation_url = 'https://example.com/invitation' + invitation.invitation_url\n",
    "            \n",
    "            output.append_display_data(HTML(\"<br/><span style='color:blue;'> Invitation string </span>\"))\n",
    "            output.append_stdout('_'*64 + '\\n')\n",
    "            output.append_stdout(invitation_url)\n",
    "            output.append_stdout('\\n' + '_'*64)\n",
    "            \n",
    "            output.append_stdout('\\n Waiting QRCode...')\n",
    "            qr_url = await sirius_sdk.generate_qr_code(invitation_url)\n",
    "            image_qr = Image(url=qr_url, width = 250, unconfined=True)\n",
    "            output.append_display_data(image_qr)\n",
    "            \n",
    "            # Start to listen...\n",
    "            output.append_stdout('\\nWait for connection requests ...\\n')\n",
    "            P2P = await manager.wait_connection(invitation)\n",
    "            output.append_stdout('_'*64 + '\\n')\n",
    "            output.append_stdout(f'\\n!!! Connection with \"{P2P.their.label}\" was established !!!!')\n",
    "            output.append_stdout('\\n' + '_'*64)\n",
    "    except Exception as e:\n",
    "        output.append_stderr(repr(e))\n",
    "        \n",
    "        \n",
    "output = widgets.Output(layout={\"width\": \"1000px\"})\n",
    "display(output)\n",
    "asyncio.ensure_future(establish_connection())\n"
   ]
  },
  {
   "cell_type": "markdown",
   "id": "71a57123-2a64-4c6e-b261-a9149b2a1eb9",
   "metadata": {},
   "source": [
    "# Тестируем *\"Чат. Сообщение не доставляется при быстрой отправке сообщений\"*\n",
    "YouTrack: https://indilynx.youtrack.cloud/issue/SI-104/Chat-Soobshchenie-ne-dostavlyaetsya-pri-bystroi-otpravke-soobshchenii\n",
    "\n",
    "Алгоритм тестирования:\n",
    "  1. Задается количество сообщений для отправки\n",
    "  2. Задается задержка (мсек) между отправками\n",
    "  3. Отправляется пачкой\n",
    "  \n",
    " "
   ]
  },
  {
   "cell_type": "code",
   "execution_count": 78,
   "id": "6ba938e0-2e5f-4b3f-9a94-f3f44ad98ce7",
   "metadata": {},
   "outputs": [
    {
     "data": {
      "application/vnd.jupyter.widget-view+json": {
       "model_id": "03dd97b649084753bda09fd147d0f73f",
       "version_major": 2,
       "version_minor": 0
      },
      "text/plain": [
       "IntText(value=10, description='Сообщений:')"
      ]
     },
     "metadata": {},
     "output_type": "display_data"
    },
    {
     "data": {
      "application/vnd.jupyter.widget-view+json": {
       "model_id": "b3248c663d0f4a9899d47f0383129170",
       "version_major": 2,
       "version_minor": 0
      },
      "text/plain": [
       "IntText(value=100, description='МСЕК:')"
      ]
     },
     "metadata": {},
     "output_type": "display_data"
    },
    {
     "data": {
      "application/vnd.jupyter.widget-view+json": {
       "model_id": "fc2f66599e2441eabcb602e92019a8bf",
       "version_major": 2,
       "version_minor": 0
      },
      "text/plain": [
       "Button(button_style='danger', description='!!! ОГОНЬ !!!', style=ButtonStyle())"
      ]
     },
     "metadata": {},
     "output_type": "display_data"
    },
    {
     "data": {
      "application/vnd.jupyter.widget-view+json": {
       "model_id": "223a5ce528f44a8e88a96714aec1a248",
       "version_major": 2,
       "version_minor": 0
      },
      "text/plain": [
       "Output(layout=Layout(width='1000px'))"
      ]
     },
     "metadata": {},
     "output_type": "display_data"
    }
   ],
   "source": [
    "assert P2P, 'Установите соединение с мобилкой на предыдущих шагах!!!'\n",
    "\n",
    "import asyncio\n",
    "import datetime\n",
    "\n",
    "GROUP_COUNTER = 1\n",
    "\n",
    "input_msg_count = widgets.IntText(value='10', description='Сообщений:')\n",
    "input_msg_delay = widgets.IntText(value='100', description='МСЕК:')\n",
    "button_run = widgets.Button(description=\"!!! ОГОНЬ !!!\", button_style='danger')\n",
    "output = widgets.Output(layout={\"width\": \"1000px\"})\n",
    "\n",
    "\n",
    "# Запускаем тест\n",
    "async def run_test(msg_count: int, msg_delay_msec: int, ):\n",
    "    global P2P\n",
    "    global GROUP_COUNTER\n",
    "    output.append_stdout(f'\\nChat Label: \"{LABEL}\"')\n",
    "    output.append_stdout(f'\\nDetails: msg_count = {msg_count}; msg_delay_msec = {msg_delay_msec}')\n",
    "    try:\n",
    "        \n",
    "        test_group_prefix = f'Group-{GROUP_COUNTER}/Test-'\n",
    "        GROUP_COUNTER += 1\n",
    "        msg_delay_sec = msg_delay_msec/1000\n",
    "        \n",
    "        async with sirius_sdk.context(CFG):\n",
    "            for n in range(msg_count):\n",
    "                \n",
    "                msg_text = test_group_prefix + str(n+1)\n",
    "                \n",
    "                msg = sirius_sdk.aries_rfc.BasicMessage(\n",
    "                    content=msg_text,\n",
    "                    locale='ru',\n",
    "                )\n",
    "                out_time = str(datetime.datetime.utcnow()).replace('T', ' ') + 'Z'\n",
    "                msg['~timing'] = {\n",
    "                    \"out_time\": out_time,\n",
    "                }\n",
    "                ##### Отправка\n",
    "                await sirius_sdk.send_to(msg, P2P)\n",
    "                #########\n",
    "                await asyncio.sleep(msg_delay_sec)\n",
    "                \n",
    "    except Exception as e:\n",
    "        output.append_stderr(repr(e))\n",
    "\n",
    "\n",
    "def on_run_clicked(b):\n",
    "    output.clear_output()\n",
    "    asyncio.ensure_future(run_test(msg_count=input_msg_count.value, msg_delay_msec=input_msg_delay.value))\n",
    "    \n",
    "button_run.on_click(on_run_clicked)\n",
    "        \n",
    "display(input_msg_count, input_msg_delay, button_run, output)"
   ]
  },
  {
   "cell_type": "code",
   "execution_count": null,
   "id": "67c84ecd-f9f9-4958-a482-73dbd9980fe5",
   "metadata": {},
   "outputs": [],
   "source": []
  },
  {
   "cell_type": "code",
   "execution_count": null,
   "id": "1d3f7393-d00b-4b83-bb60-f60e3356e259",
   "metadata": {},
   "outputs": [],
   "source": []
  }
 ],
 "metadata": {
  "kernelspec": {
   "display_name": "Python 3 (ipykernel)",
   "language": "python",
   "name": "python3"
  },
  "language_info": {
   "codemirror_mode": {
    "name": "ipython",
    "version": 3
   },
   "file_extension": ".py",
   "mimetype": "text/x-python",
   "name": "python",
   "nbconvert_exporter": "python",
   "pygments_lexer": "ipython3",
   "version": "3.10.6"
  }
 },
 "nbformat": 4,
 "nbformat_minor": 5
}
